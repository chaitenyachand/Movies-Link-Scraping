{
 "cells": [
  {
   "cell_type": "markdown",
   "metadata": {},
   "source": [
    "## Import necessary Libraries"
   ]
  },
  {
   "cell_type": "code",
   "execution_count": 1,
   "metadata": {},
   "outputs": [],
   "source": [
    "from imdb import IMDb\n",
    "import csv\n",
    "import time"
   ]
  },
  {
   "cell_type": "markdown",
   "metadata": {},
   "source": [
    "# Create an instance of the IMDb class"
   ]
  },
  {
   "cell_type": "code",
   "execution_count": 2,
   "metadata": {},
   "outputs": [],
   "source": [
    "ia = IMDb()"
   ]
  },
  {
   "cell_type": "markdown",
   "metadata": {},
   "source": [
    "# Function to fetch movie details from IMDb"
   ]
  },
  {
   "cell_type": "code",
   "execution_count": 3,
   "metadata": {},
   "outputs": [],
   "source": [
    "def fetch_movie_details(start_id, end_id, batch_size):\n",
    "    movies = []\n",
    "    for movie_id in range(start_id, end_id, batch_size):\n",
    "        batch_end = min(movie_id + batch_size, end_id)\n",
    "        for mid in range(movie_id, batch_end):\n",
    "            try:\n",
    "                movie = ia.get_movie(mid)\n",
    "                if 'title' in movie.keys():\n",
    "                    movie_name = movie.get('title', 'N/A')\n",
    "                    cover_photo = movie.get('cover url', 'N/A')\n",
    "                    source_link = f\"https://www.imdb.com/title/tt{mid:07d}/\"\n",
    "                    rating = movie.get('rating', 'N/A')\n",
    "                    trailer_link = f\"https://www.imdb.com/title/tt{mid:07d}/videogallery\"\n",
    "                    categories = ', '.join(movie.get('genres', []))\n",
    "                    \n",
    "                    movies.append([movie_name, cover_photo, source_link, rating, trailer_link, categories])\n",
    "            except Exception as e:\n",
    "                print(f\"Error fetching movie ID {mid}: {e}\")\n",
    "        time.sleep(1)  # Sleep to avoid rate limits\n",
    "    return movies"
   ]
  },
  {
   "cell_type": "markdown",
   "metadata": {},
   "source": [
    "# Define the range of movie IDs"
   ]
  },
  {
   "cell_type": "code",
   "execution_count": 5,
   "metadata": {},
   "outputs": [],
   "source": [
    "start_id = 1\n",
    "end_id = 1000  # Adjust this range based on requirements"
   ]
  },
  {
   "cell_type": "markdown",
   "metadata": {},
   "source": [
    "# Fetch movie details in batches"
   ]
  },
  {
   "cell_type": "code",
   "execution_count": null,
   "metadata": {},
   "outputs": [],
   "source": [
    "batch_size = 100  # Adjust the batch size if necessary\n",
    "movie_details = fetch_movie_details(start_id, end_id, batch_size)"
   ]
  },
  {
   "cell_type": "markdown",
   "metadata": {},
   "source": [
    "# Write movie details to a CSV file"
   ]
  },
  {
   "cell_type": "code",
   "execution_count": 7,
   "metadata": {},
   "outputs": [],
   "source": [
    "with open('imdb_movies.csv', mode='w', newline='') as file:\n",
    "    writer = csv.writer(file)\n",
    "    writer.writerow(['Movie Name', 'Cover Photo', 'Source Link', 'Rating', 'Trailer Link', 'Categories'])\n",
    "    for details in movie_details:\n",
    "        writer.writerow(details)"
   ]
  },
  {
   "cell_type": "code",
   "execution_count": 8,
   "metadata": {},
   "outputs": [
    {
     "name": "stdout",
     "output_type": "stream",
     "text": [
      "Movie details have been successfully fetched and saved to imdb_movies.csv\n"
     ]
    }
   ],
   "source": [
    "print(\"Movie details have been successfully fetched and saved to imdb_movies.csv\")"
   ]
  }
 ],
 "metadata": {
  "kernelspec": {
   "display_name": "Python 3",
   "language": "python",
   "name": "python3"
  },
  "language_info": {
   "codemirror_mode": {
    "name": "ipython",
    "version": 3
   },
   "file_extension": ".py",
   "mimetype": "text/x-python",
   "name": "python",
   "nbconvert_exporter": "python",
   "pygments_lexer": "ipython3",
   "version": "3.10.1"
  }
 },
 "nbformat": 4,
 "nbformat_minor": 2
}
